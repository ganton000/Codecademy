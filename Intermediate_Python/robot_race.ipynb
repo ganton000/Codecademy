{
 "cells": [
  {
   "cell_type": "markdown",
   "metadata": {},
   "source": [
    "<h1> Robot Race Project </h1>\n",
    "\n",
    "\n",
    "Project where you fill in gaps in code to create a virtual race between robots. <br>\n",
    "This is part of Codecademy's Intermediate Python course."
   ]
  },
  {
   "cell_type": "code",
   "execution_count": null,
   "metadata": {},
   "outputs": [],
   "source": [
    "import robot_race_functions as rr\n",
    "from collections import deque, Counter, namedtuple\n",
    "from time import time, sleep\n",
    "\n",
    "maze_file_name = 'maze_data_1.csv'\n",
    "seconds_between_turns = 0.3\n",
    "max_turns = 35\n",
    "\n",
    "# Initialize the robot race\n",
    "maze_data = rr.read_maze(maze_file_name)\n",
    "rr.print_maze(maze_data)\n",
    "walls, goal, bots = rr.process_maze_init(maze_data)\n",
    "\n",
    "# Populate a deque of all robot commands for the provided maze\n",
    "robot_moves = deque()\n",
    "num_of_turns = 0\n",
    "while not rr.is_race_over(bots) and num_of_turns < max_turns:\n",
    "  # For every bot in the list of bots, if the bot has not reached the end, add a new move to the robot_moves deque\n",
    "  # Add your code below!\n",
    "  for bot in bots:\n",
    "    if bot.has_finished == False:\n",
    "      robot_decision = rr.compute_robot_logic(walls, goal, bot)\n",
    "      robot_moves.append(robot_decision)\n",
    "\n",
    "  num_of_turns += 1\n",
    "\n",
    "# Count the number of moves based on the robot names\n",
    "# Add your code below!\n",
    "move_count = Counter(move[0] for move in robot_moves)\n",
    "\n",
    "# Count the number of collisions by robot name\n",
    "# Add your code below!\n",
    "collision_count = Counter( move[0] for move in robot_moves if move[2] == True)\n",
    "\n",
    "\n",
    "# Create a namedtuple to keep track of our robots' points\n",
    "# Add your code below!\n",
    "BotScoreData = namedtuple('BotScoreData', 'name num_moves num_collisions score')\n",
    "\n",
    "# Calculate the scores (moves + collisions) for each robot and append it to bot_scores \n",
    "# Add your code below!\n",
    "# bot_scores = []\n",
    "# for bot in bots:\n",
    "#   bot_scores.append(BotScoreData(bot.name, move_count[bot.name], collision_count[bot.name], move_count[bot.name] + collision_count[bot]))\n",
    "\n",
    "bot_scores = [ BotScoreData(bot.name, move_count[bot.name], collision_count[bot.name], move_count[bot.name] + collision_count[bot.name]) for bot in bots]\n",
    "\n",
    "\n",
    "# Populate a dict to keep track of the robot movements\n",
    "bot_data = {}\n",
    "# Add your code below!\n",
    "for bot in bots:\n",
    "  bot_data[bot.name] = bot\n",
    "\n",
    "# Move the robots and update the map based on the moves deque\n",
    "while len(robot_moves) > 0:\n",
    "  # Make sure to pop moves from the front of the deque\n",
    "  # Add your code below!\n",
    "  bot_name, direction, has_collided = robot_moves.popleft()\n",
    "  bot_data[bot_name].process_move(direction)\n",
    "\n",
    "\n",
    "  # Update the maze characters based on the robot positions and print it to the console\n",
    "  rr.update_maze_characters(maze_data, bots)\n",
    "  rr.print_maze(maze_data)\n",
    "  sleep(seconds_between_turns - time() % seconds_between_turns)\n",
    "\n",
    "# Print out the results!\n",
    "rr.print_results(bot_scores)"
   ]
  }
 ],
 "metadata": {
  "interpreter": {
   "hash": "aee8b7b246df8f9039afb4144a1f6fd8d2ca17a180786b69acc140d282b71a49"
  },
  "kernelspec": {
   "display_name": "Python 3.9.9 64-bit",
   "language": "python",
   "name": "python3"
  },
  "language_info": {
   "name": "python",
   "version": "3.9.9"
  },
  "orig_nbformat": 4
 },
 "nbformat": 4,
 "nbformat_minor": 2
}

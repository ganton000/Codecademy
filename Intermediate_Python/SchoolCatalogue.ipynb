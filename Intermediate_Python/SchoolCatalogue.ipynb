{
 "cells": [
  {
   "cell_type": "code",
   "execution_count": 44,
   "metadata": {},
   "outputs": [
    {
     "data": {
      "text/plain": [
       "(A example school school named Morris High with 120 students,\n",
       " A primary school named PS159 with 200 students with a pickup policy enstated for 10am,\n",
       " A high school named Little High with 500 students with a number of sports teams which include ('Lacrosse', 'Football', 'Basketball', 'Volleyball'))"
      ]
     },
     "execution_count": 44,
     "metadata": {},
     "output_type": "execute_result"
    }
   ],
   "source": [
    "\n",
    "\n",
    "class School:\n",
    "\n",
    "    def __init__(self, name, level, numberOfStudents):\n",
    "        self._name = name\n",
    "        self._level = level\n",
    "        self._numberOfStudents = numberOfStudents\n",
    "\n",
    "    def __repr__(self):\n",
    "        rep = f'A {self._level} school named {self._name} with {self._numberOfStudents} students'\n",
    "        return rep\n",
    "\n",
    "    def get_name(self):\n",
    "        return self._name\n",
    "    \n",
    "    def get_level(self):\n",
    "        return self._level\n",
    "\n",
    "    def get_numberOfStudents(self):\n",
    "        return self._numberOfStudents\n",
    "    \n",
    "    def set_numberOfStudents(self, new_numOfStudents):\n",
    "        if isinstance(new_numOfStudents, int):\n",
    "            self._numberOfStudents = new_numOfStudents\n",
    "        else:\n",
    "            raise TypeError\n",
    "\n",
    "class Primary(School):\n",
    "\n",
    "    def __init__(self, name, numberOfStudents, pickupPolicy):\n",
    "        super().__init__(name,'primary', numberOfStudents)\n",
    "        self._pickupPolicy = pickupPolicy\n",
    "        \n",
    "    def get_pickupPolicy(self):\n",
    "        return self._pickupPolicy\n",
    "    \n",
    "    def __repr__(self):\n",
    "        parentRepr = super().__repr__()\n",
    "        return parentRepr + f' with a pickup policy enstated for {self._pickupPolicy}'\n",
    "\n",
    "\n",
    "class Middle(School):\n",
    "    pass\n",
    "\n",
    "    # def __init__(self):\n",
    "    #     super().init()\n",
    "\n",
    "class High(School):\n",
    "\n",
    "    def __init__(self,name, numberOfStudents, sportsTeams):\n",
    "        super().__init__(name, 'high', numberOfStudents)\n",
    "        self._sportsTeams = sportsTeams\n",
    "\n",
    "    def get_sportsTeams(self):\n",
    "        return self._sportsTeams\n",
    "\n",
    "    def __repr__(self):\n",
    "        parentRepr = super().__repr__()\n",
    "        return parentRepr + f' with a number of sports teams which include {*self._sportsTeams,}'\n",
    "\n",
    "\n",
    "\n",
    "#Test\n",
    "Morris = School('Morris High','example school', 100)\n",
    "\n",
    "Morris.get_name(), Morris.get_level(), Morris.get_numberOfStudents()\n",
    "\n",
    "Morris.set_numberOfStudents(120), Morris.get_numberOfStudents()\n",
    "\n",
    "Morris\n",
    "\n",
    "PS = Primary('PS159', 200, '10am')\n",
    "\n",
    "PS, PS.get_pickupPolicy()\n",
    "\n",
    "teams = ['Lacrosse', 'Football', 'Basketball', 'Volleyball']\n",
    "\n",
    "HS = High('Little High', 500, teams)\n",
    "\n",
    "HS, HS.get_sportsTeams(), HS.get_level()\n",
    "\n",
    "Morris, PS, HS"
   ]
  }
 ],
 "metadata": {
  "interpreter": {
   "hash": "aee8b7b246df8f9039afb4144a1f6fd8d2ca17a180786b69acc140d282b71a49"
  },
  "kernelspec": {
   "display_name": "Python 3.9.9 64-bit",
   "language": "python",
   "name": "python3"
  },
  "language_info": {
   "codemirror_mode": {
    "name": "ipython",
    "version": 3
   },
   "file_extension": ".py",
   "mimetype": "text/x-python",
   "name": "python",
   "nbconvert_exporter": "python",
   "pygments_lexer": "ipython3",
   "version": "3.9.9"
  },
  "orig_nbformat": 4
 },
 "nbformat": 4,
 "nbformat_minor": 2
}
